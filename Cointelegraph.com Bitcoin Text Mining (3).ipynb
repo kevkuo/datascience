{
 "cells": [
  {
   "cell_type": "markdown",
   "metadata": {},
   "source": [
    "# Bitcoin Price Change (Target Variable Creation)"
   ]
  },
  {
   "cell_type": "code",
   "execution_count": 1,
   "metadata": {},
   "outputs": [],
   "source": [
    "\"\"\"https://blog.patricktriest.com/analyzing-cryptocurrencies-python/\"\"\"\n",
    "import os\n",
    "import numpy as np\n",
    "import pandas as pd\n",
    "import pickle\n",
    "import quandl\n",
    "from datetime import datetime"
   ]
  },
  {
   "cell_type": "code",
   "execution_count": 2,
   "metadata": {},
   "outputs": [],
   "source": [
    "def get_quandl_data(quandl_id):\n",
    "    '''Download and cache Quandl dataseries'''\n",
    "    cache_path = '{}.pkl'.format(quandl_id).replace('/','-')\n",
    "    try:\n",
    "        f = open(cache_path, 'rb')\n",
    "        df = pickle.load(f)   \n",
    "        print('Loaded {} from cache'.format(quandl_id))\n",
    "    except (OSError, IOError) as e:\n",
    "        print('Downloading {} from Quandl'.format(quandl_id))\n",
    "        df = quandl.get(quandl_id, returns=\"pandas\")\n",
    "        df.to_pickle(cache_path)\n",
    "        print('Cached {} at {}'.format(quandl_id, cache_path))\n",
    "    return df"
   ]
  },
  {
   "cell_type": "code",
   "execution_count": 3,
   "metadata": {},
   "outputs": [],
   "source": [
    "def merge_dfs_on_column(dataframes, labels, col):\n",
    "    '''Merge a single column of each dataframe into a new combined dataframe'''\n",
    "    series_dict = {}\n",
    "    for index in range(len(dataframes)):\n",
    "        series_dict[labels[index]] = dataframes[index][col]\n",
    "        \n",
    "    return pd.DataFrame(series_dict)"
   ]
  },
  {
   "cell_type": "code",
   "execution_count": 4,
   "metadata": {},
   "outputs": [
    {
     "name": "stdout",
     "output_type": "stream",
     "text": [
      "Loaded BCHARTS/KRAKENUSD from cache\n",
      "Loaded BCHARTS/COINBASEUSD from cache\n",
      "Loaded BCHARTS/BITSTAMPUSD from cache\n",
      "Loaded BCHARTS/ITBITUSD from cache\n"
     ]
    }
   ],
   "source": [
    "# Pull Kraken BTC price exchange data\n",
    "btc_usd_price_kraken = get_quandl_data('BCHARTS/KRAKENUSD')\n",
    "\n",
    "# Pull pricing data for 3 more BTC exchanges\n",
    "exchanges = ['COINBASE','BITSTAMP','ITBIT']\n",
    "\n",
    "exchange_data = {}\n",
    "\n",
    "exchange_data['KRAKEN'] = btc_usd_price_kraken\n",
    "\n",
    "for exchange in exchanges:\n",
    "    exchange_code = 'BCHARTS/{}USD'.format(exchange)\n",
    "    btc_exchange_df = get_quandl_data(exchange_code)\n",
    "    exchange_data[exchange] = btc_exchange_df\n",
    "\n",
    "# Merge the BTC price dataseries' into a single dataframe\n",
    "close_df = merge_dfs_on_column(list(exchange_data.values()), list(exchange_data.keys()), 'Close')\n",
    "# Calculate the average BTC price as a new column\n",
    "close_df['close'] = close_df.mean(axis=1)"
   ]
  },
  {
   "cell_type": "code",
   "execution_count": 5,
   "metadata": {
    "scrolled": false
   },
   "outputs": [
    {
     "data": {
      "text/html": [
       "<div>\n",
       "<style scoped>\n",
       "    .dataframe tbody tr th:only-of-type {\n",
       "        vertical-align: middle;\n",
       "    }\n",
       "\n",
       "    .dataframe tbody tr th {\n",
       "        vertical-align: top;\n",
       "    }\n",
       "\n",
       "    .dataframe thead th {\n",
       "        text-align: right;\n",
       "    }\n",
       "</style>\n",
       "<table border=\"1\" class=\"dataframe\">\n",
       "  <thead>\n",
       "    <tr style=\"text-align: right;\">\n",
       "      <th></th>\n",
       "      <th>BITSTAMP</th>\n",
       "      <th>COINBASE</th>\n",
       "      <th>ITBIT</th>\n",
       "      <th>KRAKEN</th>\n",
       "      <th>close</th>\n",
       "    </tr>\n",
       "    <tr>\n",
       "      <th>Date</th>\n",
       "      <th></th>\n",
       "      <th></th>\n",
       "      <th></th>\n",
       "      <th></th>\n",
       "      <th></th>\n",
       "    </tr>\n",
       "  </thead>\n",
       "  <tbody>\n",
       "    <tr>\n",
       "      <th>2011-09-13</th>\n",
       "      <td>5.97</td>\n",
       "      <td>NaN</td>\n",
       "      <td>NaN</td>\n",
       "      <td>NaN</td>\n",
       "      <td>5.97</td>\n",
       "    </tr>\n",
       "    <tr>\n",
       "      <th>2011-09-14</th>\n",
       "      <td>5.53</td>\n",
       "      <td>NaN</td>\n",
       "      <td>NaN</td>\n",
       "      <td>NaN</td>\n",
       "      <td>5.53</td>\n",
       "    </tr>\n",
       "    <tr>\n",
       "      <th>2011-09-15</th>\n",
       "      <td>5.13</td>\n",
       "      <td>NaN</td>\n",
       "      <td>NaN</td>\n",
       "      <td>NaN</td>\n",
       "      <td>5.13</td>\n",
       "    </tr>\n",
       "    <tr>\n",
       "      <th>2011-09-16</th>\n",
       "      <td>4.85</td>\n",
       "      <td>NaN</td>\n",
       "      <td>NaN</td>\n",
       "      <td>NaN</td>\n",
       "      <td>4.85</td>\n",
       "    </tr>\n",
       "    <tr>\n",
       "      <th>2011-09-17</th>\n",
       "      <td>4.87</td>\n",
       "      <td>NaN</td>\n",
       "      <td>NaN</td>\n",
       "      <td>NaN</td>\n",
       "      <td>4.87</td>\n",
       "    </tr>\n",
       "  </tbody>\n",
       "</table>\n",
       "</div>"
      ],
      "text/plain": [
       "            BITSTAMP  COINBASE  ITBIT  KRAKEN  close\n",
       "Date                                                \n",
       "2011-09-13      5.97       NaN    NaN     NaN   5.97\n",
       "2011-09-14      5.53       NaN    NaN     NaN   5.53\n",
       "2011-09-15      5.13       NaN    NaN     NaN   5.13\n",
       "2011-09-16      4.85       NaN    NaN     NaN   4.85\n",
       "2011-09-17      4.87       NaN    NaN     NaN   4.87"
      ]
     },
     "execution_count": 5,
     "metadata": {},
     "output_type": "execute_result"
    }
   ],
   "source": [
    "close_df.head()"
   ]
  },
  {
   "cell_type": "code",
   "execution_count": 53,
   "metadata": {},
   "outputs": [
    {
     "name": "stderr",
     "output_type": "stream",
     "text": [
      "/anaconda3/lib/python3.6/site-packages/ipykernel_launcher.py:3: RuntimeWarning: invalid value encountered in double_scalars\n",
      "  This is separate from the ipykernel package so we can avoid doing imports until\n",
      "/anaconda3/lib/python3.6/site-packages/ipykernel_launcher.py:3: RuntimeWarning: divide by zero encountered in double_scalars\n",
      "  This is separate from the ipykernel package so we can avoid doing imports until\n"
     ]
    }
   ],
   "source": [
    "close_df['next_close'] = close_df['close'].shift(-1)\n",
    "for i in close_df.index:\n",
    "    if abs((close_df.loc[i,'next_close']-close_df.loc[i,'close'])/close_df.loc[i,'close'])>=0.15:\n",
    "        close_df.loc[i,'change'] = 1\n",
    "    else:\n",
    "        close_df.loc[i,'change'] = 0"
   ]
  },
  {
   "cell_type": "code",
   "execution_count": 62,
   "metadata": {
    "scrolled": true
   },
   "outputs": [
    {
     "data": {
      "text/html": [
       "<div>\n",
       "<style scoped>\n",
       "    .dataframe tbody tr th:only-of-type {\n",
       "        vertical-align: middle;\n",
       "    }\n",
       "\n",
       "    .dataframe tbody tr th {\n",
       "        vertical-align: top;\n",
       "    }\n",
       "\n",
       "    .dataframe thead th {\n",
       "        text-align: right;\n",
       "    }\n",
       "</style>\n",
       "<table border=\"1\" class=\"dataframe\">\n",
       "  <thead>\n",
       "    <tr style=\"text-align: right;\">\n",
       "      <th></th>\n",
       "      <th>Date</th>\n",
       "      <th>BITSTAMP</th>\n",
       "      <th>COINBASE</th>\n",
       "      <th>ITBIT</th>\n",
       "      <th>KRAKEN</th>\n",
       "      <th>close</th>\n",
       "      <th>next_close</th>\n",
       "      <th>change</th>\n",
       "    </tr>\n",
       "  </thead>\n",
       "  <tbody>\n",
       "    <tr>\n",
       "      <th>0</th>\n",
       "      <td>2011-09-13</td>\n",
       "      <td>5.97</td>\n",
       "      <td>NaN</td>\n",
       "      <td>NaN</td>\n",
       "      <td>NaN</td>\n",
       "      <td>5.97</td>\n",
       "      <td>5.53</td>\n",
       "      <td>0.0</td>\n",
       "    </tr>\n",
       "    <tr>\n",
       "      <th>1</th>\n",
       "      <td>2011-09-14</td>\n",
       "      <td>5.53</td>\n",
       "      <td>NaN</td>\n",
       "      <td>NaN</td>\n",
       "      <td>NaN</td>\n",
       "      <td>5.53</td>\n",
       "      <td>5.13</td>\n",
       "      <td>0.0</td>\n",
       "    </tr>\n",
       "    <tr>\n",
       "      <th>2</th>\n",
       "      <td>2011-09-15</td>\n",
       "      <td>5.13</td>\n",
       "      <td>NaN</td>\n",
       "      <td>NaN</td>\n",
       "      <td>NaN</td>\n",
       "      <td>5.13</td>\n",
       "      <td>4.85</td>\n",
       "      <td>0.0</td>\n",
       "    </tr>\n",
       "    <tr>\n",
       "      <th>3</th>\n",
       "      <td>2011-09-16</td>\n",
       "      <td>4.85</td>\n",
       "      <td>NaN</td>\n",
       "      <td>NaN</td>\n",
       "      <td>NaN</td>\n",
       "      <td>4.85</td>\n",
       "      <td>4.87</td>\n",
       "      <td>0.0</td>\n",
       "    </tr>\n",
       "    <tr>\n",
       "      <th>4</th>\n",
       "      <td>2011-09-17</td>\n",
       "      <td>4.87</td>\n",
       "      <td>NaN</td>\n",
       "      <td>NaN</td>\n",
       "      <td>NaN</td>\n",
       "      <td>4.87</td>\n",
       "      <td>4.92</td>\n",
       "      <td>0.0</td>\n",
       "    </tr>\n",
       "  </tbody>\n",
       "</table>\n",
       "</div>"
      ],
      "text/plain": [
       "        Date  BITSTAMP  COINBASE  ITBIT  KRAKEN  close  next_close  change\n",
       "0 2011-09-13      5.97       NaN    NaN     NaN   5.97        5.53     0.0\n",
       "1 2011-09-14      5.53       NaN    NaN     NaN   5.53        5.13     0.0\n",
       "2 2011-09-15      5.13       NaN    NaN     NaN   5.13        4.85     0.0\n",
       "3 2011-09-16      4.85       NaN    NaN     NaN   4.85        4.87     0.0\n",
       "4 2011-09-17      4.87       NaN    NaN     NaN   4.87        4.92     0.0"
      ]
     },
     "execution_count": 62,
     "metadata": {},
     "output_type": "execute_result"
    }
   ],
   "source": [
    "close_df = close_df.reset_index(drop=True)\n",
    "close_df.head()"
   ]
  },
  {
   "cell_type": "markdown",
   "metadata": {},
   "source": [
    "# Text Scraping"
   ]
  },
  {
   "cell_type": "markdown",
   "metadata": {},
   "source": [
    "@todo find a way to iterate through cointelegraph.com pages to grab more than first page of articles"
   ]
  },
  {
   "cell_type": "code",
   "execution_count": 8,
   "metadata": {},
   "outputs": [
    {
     "data": {
      "text/plain": [
       "'Blockchain.info site refunding users’ stolen Bitcoins\\nAUG 21, 2013 | Eric Barrier\\nA flaw in the Blockchain.info wallet allowed thieves to make off with 50 Bitcoins, and the site’s operators are offering refunds to users who had their money stolen as a result.\\n'"
      ]
     },
     "execution_count": 8,
     "metadata": {},
     "output_type": "execute_result"
    }
   ],
   "source": [
    "import requests\n",
    "from bs4 import BeautifulSoup\n",
    "import numpy as np\n",
    "import pandas as pd\n",
    "import selenium\n",
    "from selenium import webdriver\n",
    "#for filling out text fields\n",
    "from selenium.webdriver.common.keys import Keys\n",
    "import time\n",
    "import re\n",
    "\n",
    "\n",
    "def getCointelegraphLinks():\n",
    "    \"\"\"return a dataframe of date and unprocessed text of each article\"\"\"\n",
    "    \n",
    "    #initiate driver and go to page listing all bitcoin stories\n",
    "    driver = webdriver.Chrome()\n",
    "    driver.get('https://cointelegraph.com/tags/bitcoin')\n",
    "\n",
    "    #find Load more articles button and click it 'til the element disappears (no more stories to load)\n",
    "    load_more_articles_button = driver.find_element_by_class_name('load-tags')\n",
    "    while True:\n",
    "        try:\n",
    "            load_more_articles_button.click()\n",
    "        except:\n",
    "            break\n",
    "        time.sleep(3)\n",
    "\n",
    "    #save the resulting html and soupify\n",
    "    html = driver.page_source\n",
    "    story_listing_soup = BeautifulSoup(html)\n",
    "    #get all the hrefs and put them in an array\n",
    "    story_links = np.array([0])\n",
    "    for link in story_listing_soup.find_all('a'):\n",
    "        story_links = np.append(story_links,link.get('href'))\n",
    "    story_links = pd.Series(story_links)\n",
    "    story_links = story_links[story_links.str.contains('/news/')==True].unique()\n",
    "    \n",
    "    return story_links\n",
    "\n",
    "#last article should be:\n",
    "\"\"\"Blockchain.info site refunding users’ stolen Bitcoins\n",
    "AUG 21, 2013 | Eric Barrier\n",
    "A flaw in the Blockchain.info wallet allowed thieves to make off with 50 Bitcoins, and the site’s operators are offering refunds to users who had their money stolen as a result.\n",
    "\"\"\""
   ]
  },
  {
   "cell_type": "code",
   "execution_count": 9,
   "metadata": {
    "scrolled": true
   },
   "outputs": [],
   "source": [
    "# create a dataframe of all stories' texts and dates\n",
    "def getCointelegraphArticles():\n",
    "    df = pd.DataFrame()\n",
    "    for link in story_links:\n",
    "        story_page = requests.get(link)\n",
    "        story_soup = BeautifulSoup(story_page.text, 'html.parser')\n",
    "        text = ''\n",
    "        for tag in story_soup.find(class_=\"post-full-text contents js-post-full-text\").find_all('p'):\n",
    "            text = text + tag.text\n",
    "        date = story_soup.find(class_='date').attrs['datetime']\n",
    "        try:\n",
    "            string1 = story_soup.find(class_='referral_stats total-views').text\n",
    "        except:\n",
    "            string1 = '0'\n",
    "        views = int(re.search(r'\\d+', string1).group())\n",
    "        try:\n",
    "            string2 = story_soup.find(class_='referral_stats total-shares').text\n",
    "        except:\n",
    "            string2 = '0'\n",
    "        shares = int(re.search(r'\\d+', string2).group())\n",
    "        title = story_soup.find(class_='header').text\n",
    "        author = story_soup.find(class_='name').text\n",
    "        df = df.append(pd.DataFrame(data={'text':[text], 'date':[date], 'views':[views], 'shares':[shares], 'author':[author], 'title':[title]}), ignore_index = True)\n",
    "    return df"
   ]
  },
  {
   "cell_type": "code",
   "execution_count": 10,
   "metadata": {},
   "outputs": [
    {
     "name": "stderr",
     "output_type": "stream",
     "text": [
      "/anaconda3/lib/python3.6/site-packages/bs4/__init__.py:181: UserWarning: No parser was explicitly specified, so I'm using the best available HTML parser for this system (\"lxml\"). This usually isn't a problem, but if you run this code on another system, or in a different virtual environment, it may use a different parser and behave differently.\n",
      "\n",
      "The code that caused this warning is on line 193 of the file /anaconda3/lib/python3.6/runpy.py. To get rid of this warning, change code that looks like this:\n",
      "\n",
      " BeautifulSoup(YOUR_MARKUP})\n",
      "\n",
      "to this:\n",
      "\n",
      " BeautifulSoup(YOUR_MARKUP, \"lxml\")\n",
      "\n",
      "  markup_type=markup_type))\n"
     ]
    }
   ],
   "source": [
    "story_links = getCointelegraphLinks()"
   ]
  },
  {
   "cell_type": "code",
   "execution_count": 12,
   "metadata": {},
   "outputs": [],
   "source": [
    "predf = getCointelegraphArticles()"
   ]
  },
  {
   "cell_type": "code",
   "execution_count": null,
   "metadata": {
    "scrolled": true
   },
   "outputs": [],
   "source": [
    "##coindesk story_links link trimming\n",
    "# start_index = np.where(story_links=='https://jobs.coindesk.com/')[0][0]\n",
    "# end_index = np.where(story_links=='/contact')[0][0]\n",
    "# story_links = story_links[start_index+1:end_index]\n",
    "# print(story_links)"
   ]
  },
  {
   "cell_type": "markdown",
   "metadata": {},
   "source": [
    "# Preprocessing"
   ]
  },
  {
   "cell_type": "code",
   "execution_count": 13,
   "metadata": {},
   "outputs": [],
   "source": [
    "import nltk\n",
    "from nltk.corpus import stopwords\n",
    "from nltk.tokenize import word_tokenize\n",
    "import nltk\n",
    "sno = nltk.stem.SnowballStemmer('english')\n",
    "stop = stopwords.words('english')"
   ]
  },
  {
   "cell_type": "code",
   "execution_count": 14,
   "metadata": {},
   "outputs": [],
   "source": [
    "#lowercase, replace non-alphanumerics, remove stopwords\n",
    "def preprocessDfTextColumn(df_column):\n",
    "    df_column = df_column.str.lower()\n",
    "    df_column = df_column.str.replace('([^\\s\\w]|_)+', ' ')\n",
    "    df_column = df_column.apply(lambda x : ' '.join([word for word in x.split() if word not in stop]))\n",
    "    df_column = df_column.apply(lambda x : sno.stem(x))\n",
    "    return df_column"
   ]
  },
  {
   "cell_type": "code",
   "execution_count": 66,
   "metadata": {},
   "outputs": [],
   "source": [
    "df = predf.copy()\n",
    "df.text = preprocessDfTextColumn(df.text)\n",
    "df.title = preprocessDfTextColumn(df.title)\n",
    "df.author = preprocessDfTextColumn(df.author)"
   ]
  },
  {
   "cell_type": "code",
   "execution_count": 67,
   "metadata": {},
   "outputs": [
    {
     "data": {
      "text/html": [
       "<div>\n",
       "<style scoped>\n",
       "    .dataframe tbody tr th:only-of-type {\n",
       "        vertical-align: middle;\n",
       "    }\n",
       "\n",
       "    .dataframe tbody tr th {\n",
       "        vertical-align: top;\n",
       "    }\n",
       "\n",
       "    .dataframe thead th {\n",
       "        text-align: right;\n",
       "    }\n",
       "</style>\n",
       "<table border=\"1\" class=\"dataframe\">\n",
       "  <thead>\n",
       "    <tr style=\"text-align: right;\">\n",
       "      <th></th>\n",
       "      <th>author</th>\n",
       "      <th>date</th>\n",
       "      <th>shares</th>\n",
       "      <th>text</th>\n",
       "      <th>title</th>\n",
       "      <th>views</th>\n",
       "    </tr>\n",
       "  </thead>\n",
       "  <tbody>\n",
       "    <tr>\n",
       "      <th>0</th>\n",
       "      <td>ana alexandr</td>\n",
       "      <td>2018-05-16 09:36:14</td>\n",
       "      <td>270</td>\n",
       "      <td>trading clearing platform ledgerx launched new...</td>\n",
       "      <td>ledgerx debuts first bitcoin savings account l...</td>\n",
       "      <td>7850</td>\n",
       "    </tr>\n",
       "    <tr>\n",
       "      <th>1</th>\n",
       "      <td>ana alexandr</td>\n",
       "      <td>2018-05-16 11:36:12</td>\n",
       "      <td>266</td>\n",
       "      <td>boston based circle internet financial ltd dig...</td>\n",
       "      <td>circle raises 110 mln investment round plans r...</td>\n",
       "      <td>8837</td>\n",
       "    </tr>\n",
       "    <tr>\n",
       "      <th>2</th>\n",
       "      <td>connor blenkinsop</td>\n",
       "      <td>2018-05-16 01:06:14</td>\n",
       "      <td>378</td>\n",
       "      <td>buying bottle water quickly spontaneously usin...</td>\n",
       "      <td>smart ecard stores 30 crypto accounts credit d...</td>\n",
       "      <td>10407</td>\n",
       "    </tr>\n",
       "    <tr>\n",
       "      <th>3</th>\n",
       "      <td>marie huillet</td>\n",
       "      <td>2018-05-16 10:55:14</td>\n",
       "      <td>183</td>\n",
       "      <td>european central bank ecb board member yves me...</td>\n",
       "      <td>european central bank mersch says banks segreg...</td>\n",
       "      <td>7539</td>\n",
       "    </tr>\n",
       "    <tr>\n",
       "      <th>4</th>\n",
       "      <td>marie huillet</td>\n",
       "      <td>2018-05-16 11:25:12</td>\n",
       "      <td>502</td>\n",
       "      <td>major us crypto wallet provider exchange servi...</td>\n",
       "      <td>coinbase targets 10 bln institutional investor...</td>\n",
       "      <td>22530</td>\n",
       "    </tr>\n",
       "  </tbody>\n",
       "</table>\n",
       "</div>"
      ],
      "text/plain": [
       "              author                 date  shares  \\\n",
       "0       ana alexandr  2018-05-16 09:36:14     270   \n",
       "1       ana alexandr  2018-05-16 11:36:12     266   \n",
       "2  connor blenkinsop  2018-05-16 01:06:14     378   \n",
       "3      marie huillet  2018-05-16 10:55:14     183   \n",
       "4      marie huillet  2018-05-16 11:25:12     502   \n",
       "\n",
       "                                                text  \\\n",
       "0  trading clearing platform ledgerx launched new...   \n",
       "1  boston based circle internet financial ltd dig...   \n",
       "2  buying bottle water quickly spontaneously usin...   \n",
       "3  european central bank ecb board member yves me...   \n",
       "4  major us crypto wallet provider exchange servi...   \n",
       "\n",
       "                                               title  views  \n",
       "0  ledgerx debuts first bitcoin savings account l...   7850  \n",
       "1  circle raises 110 mln investment round plans r...   8837  \n",
       "2  smart ecard stores 30 crypto accounts credit d...  10407  \n",
       "3  european central bank mersch says banks segreg...   7539  \n",
       "4  coinbase targets 10 bln institutional investor...  22530  "
      ]
     },
     "execution_count": 67,
     "metadata": {},
     "output_type": "execute_result"
    }
   ],
   "source": [
    "df.head()"
   ]
  },
  {
   "cell_type": "code",
   "execution_count": 68,
   "metadata": {},
   "outputs": [
    {
     "data": {
      "text/html": [
       "<div>\n",
       "<style scoped>\n",
       "    .dataframe tbody tr th:only-of-type {\n",
       "        vertical-align: middle;\n",
       "    }\n",
       "\n",
       "    .dataframe tbody tr th {\n",
       "        vertical-align: top;\n",
       "    }\n",
       "\n",
       "    .dataframe thead th {\n",
       "        text-align: right;\n",
       "    }\n",
       "</style>\n",
       "<table border=\"1\" class=\"dataframe\">\n",
       "  <thead>\n",
       "    <tr style=\"text-align: right;\">\n",
       "      <th></th>\n",
       "      <th>author</th>\n",
       "      <th>date</th>\n",
       "      <th>shares</th>\n",
       "      <th>text</th>\n",
       "      <th>title</th>\n",
       "      <th>views</th>\n",
       "      <th>dow</th>\n",
       "      <th>month</th>\n",
       "      <th>monthday</th>\n",
       "      <th>quarter</th>\n",
       "    </tr>\n",
       "  </thead>\n",
       "  <tbody>\n",
       "    <tr>\n",
       "      <th>0</th>\n",
       "      <td>ana alexandr</td>\n",
       "      <td>2018-05-16 09:36:14</td>\n",
       "      <td>270</td>\n",
       "      <td>trading clearing platform ledgerx launched new...</td>\n",
       "      <td>ledgerx debuts first bitcoin savings account l...</td>\n",
       "      <td>7850</td>\n",
       "      <td>2</td>\n",
       "      <td>5</td>\n",
       "      <td>05-16</td>\n",
       "      <td>1</td>\n",
       "    </tr>\n",
       "    <tr>\n",
       "      <th>1</th>\n",
       "      <td>ana alexandr</td>\n",
       "      <td>2018-05-16 11:36:12</td>\n",
       "      <td>266</td>\n",
       "      <td>boston based circle internet financial ltd dig...</td>\n",
       "      <td>circle raises 110 mln investment round plans r...</td>\n",
       "      <td>8837</td>\n",
       "      <td>2</td>\n",
       "      <td>5</td>\n",
       "      <td>05-16</td>\n",
       "      <td>1</td>\n",
       "    </tr>\n",
       "    <tr>\n",
       "      <th>2</th>\n",
       "      <td>connor blenkinsop</td>\n",
       "      <td>2018-05-16 01:06:14</td>\n",
       "      <td>378</td>\n",
       "      <td>buying bottle water quickly spontaneously usin...</td>\n",
       "      <td>smart ecard stores 30 crypto accounts credit d...</td>\n",
       "      <td>10407</td>\n",
       "      <td>2</td>\n",
       "      <td>5</td>\n",
       "      <td>05-16</td>\n",
       "      <td>1</td>\n",
       "    </tr>\n",
       "    <tr>\n",
       "      <th>3</th>\n",
       "      <td>marie huillet</td>\n",
       "      <td>2018-05-16 10:55:14</td>\n",
       "      <td>183</td>\n",
       "      <td>european central bank ecb board member yves me...</td>\n",
       "      <td>european central bank mersch says banks segreg...</td>\n",
       "      <td>7539</td>\n",
       "      <td>2</td>\n",
       "      <td>5</td>\n",
       "      <td>05-16</td>\n",
       "      <td>1</td>\n",
       "    </tr>\n",
       "    <tr>\n",
       "      <th>4</th>\n",
       "      <td>marie huillet</td>\n",
       "      <td>2018-05-16 11:25:12</td>\n",
       "      <td>502</td>\n",
       "      <td>major us crypto wallet provider exchange servi...</td>\n",
       "      <td>coinbase targets 10 bln institutional investor...</td>\n",
       "      <td>22530</td>\n",
       "      <td>2</td>\n",
       "      <td>5</td>\n",
       "      <td>05-16</td>\n",
       "      <td>1</td>\n",
       "    </tr>\n",
       "  </tbody>\n",
       "</table>\n",
       "</div>"
      ],
      "text/plain": [
       "              author                date  shares  \\\n",
       "0       ana alexandr 2018-05-16 09:36:14     270   \n",
       "1       ana alexandr 2018-05-16 11:36:12     266   \n",
       "2  connor blenkinsop 2018-05-16 01:06:14     378   \n",
       "3      marie huillet 2018-05-16 10:55:14     183   \n",
       "4      marie huillet 2018-05-16 11:25:12     502   \n",
       "\n",
       "                                                text  \\\n",
       "0  trading clearing platform ledgerx launched new...   \n",
       "1  boston based circle internet financial ltd dig...   \n",
       "2  buying bottle water quickly spontaneously usin...   \n",
       "3  european central bank ecb board member yves me...   \n",
       "4  major us crypto wallet provider exchange servi...   \n",
       "\n",
       "                                               title  views  dow  month  \\\n",
       "0  ledgerx debuts first bitcoin savings account l...   7850    2      5   \n",
       "1  circle raises 110 mln investment round plans r...   8837    2      5   \n",
       "2  smart ecard stores 30 crypto accounts credit d...  10407    2      5   \n",
       "3  european central bank mersch says banks segreg...   7539    2      5   \n",
       "4  coinbase targets 10 bln institutional investor...  22530    2      5   \n",
       "\n",
       "  monthday  quarter  \n",
       "0   05-16         1  \n",
       "1   05-16         1  \n",
       "2   05-16         1  \n",
       "3   05-16         1  \n",
       "4   05-16         1  "
      ]
     },
     "execution_count": 68,
     "metadata": {},
     "output_type": "execute_result"
    }
   ],
   "source": [
    "df['date'] = pd.to_datetime(df['date'], format = '%Y-%m-%d %H:%M:%S')\n",
    "df['dow'] = df.date.apply(lambda x : x.weekday())\n",
    "df['month'] = df.date.apply(lambda x : x.month)\n",
    "df['monthday'] = df.date.apply(lambda x: str(x)[5:11])\n",
    "df['quarter'] = df.date.apply(lambda x : 0 if x.month >= 1 and x.month <= 3 else 1 if x.month >=4 and x.month<=6 else 3 if x.month >=7 and x.month <=9 else 3)\n",
    "df.head()"
   ]
  },
  {
   "cell_type": "code",
   "execution_count": 69,
   "metadata": {},
   "outputs": [],
   "source": [
    "# #convert from UTC to EST\n",
    "import datetime\n",
    "df['date'] = pd.to_datetime(df['date'], format = '%Y-%m-%d %H:%M:%S')\n",
    "# df['date'] = df['date'] - datetime.timedelta(hours=5)\n",
    "\n",
    "#assume that if time is before 10pm, too soon to affect closing price of the same day, so really it's today's 10pm- tomorrow's 10pm that affects tomorrow's closing price\n",
    "df['date'] = df['date'].apply(lambda dt: datetime.datetime(dt.year, dt.month, dt.day) if dt.hour<10 else datetime.datetime((dt+datetime.timedelta(days=1)).year, (dt+datetime.timedelta(days=1)).month, (dt+datetime.timedelta(days=1)).day))\n",
    "df = pd.merge(df,close_df[['Date','change']], left_on = 'date', right_on = 'Date', how = 'outer').drop(columns = ['Date','date']).dropna()"
   ]
  },
  {
   "cell_type": "code",
   "execution_count": 70,
   "metadata": {
    "scrolled": false
   },
   "outputs": [
    {
     "data": {
      "text/html": [
       "<div>\n",
       "<style scoped>\n",
       "    .dataframe tbody tr th:only-of-type {\n",
       "        vertical-align: middle;\n",
       "    }\n",
       "\n",
       "    .dataframe tbody tr th {\n",
       "        vertical-align: top;\n",
       "    }\n",
       "\n",
       "    .dataframe thead th {\n",
       "        text-align: right;\n",
       "    }\n",
       "</style>\n",
       "<table border=\"1\" class=\"dataframe\">\n",
       "  <thead>\n",
       "    <tr style=\"text-align: right;\">\n",
       "      <th></th>\n",
       "      <th>author</th>\n",
       "      <th>shares</th>\n",
       "      <th>text</th>\n",
       "      <th>title</th>\n",
       "      <th>views</th>\n",
       "      <th>dow</th>\n",
       "      <th>month</th>\n",
       "      <th>monthday</th>\n",
       "      <th>quarter</th>\n",
       "      <th>change</th>\n",
       "    </tr>\n",
       "  </thead>\n",
       "  <tbody>\n",
       "    <tr>\n",
       "      <th>24</th>\n",
       "      <td>william suberg</td>\n",
       "      <td>679.0</td>\n",
       "      <td>new research fundstrat global advisors places ...</td>\n",
       "      <td>mining propel bitcoin price 36k 2019 says late...</td>\n",
       "      <td>39159.0</td>\n",
       "      <td>4.0</td>\n",
       "      <td>5.0</td>\n",
       "      <td>05-11</td>\n",
       "      <td>1.0</td>\n",
       "      <td>0.0</td>\n",
       "    </tr>\n",
       "    <tr>\n",
       "      <th>25</th>\n",
       "      <td>william suberg</td>\n",
       "      <td>422.0</td>\n",
       "      <td>bank america boa doubled decision stop custome...</td>\n",
       "      <td>bank america cto calls bitcoin troubling recon...</td>\n",
       "      <td>21860.0</td>\n",
       "      <td>4.0</td>\n",
       "      <td>5.0</td>\n",
       "      <td>05-11</td>\n",
       "      <td>1.0</td>\n",
       "      <td>0.0</td>\n",
       "    </tr>\n",
       "    <tr>\n",
       "      <th>26</th>\n",
       "      <td>marie huillet</td>\n",
       "      <td>316.0</td>\n",
       "      <td>new research current state global bottom adopt...</td>\n",
       "      <td>new report crypto ownership shows majority ear...</td>\n",
       "      <td>29357.0</td>\n",
       "      <td>3.0</td>\n",
       "      <td>5.0</td>\n",
       "      <td>05-10</td>\n",
       "      <td>1.0</td>\n",
       "      <td>0.0</td>\n",
       "    </tr>\n",
       "    <tr>\n",
       "      <th>27</th>\n",
       "      <td>molly jane zuckerman</td>\n",
       "      <td>506.0</td>\n",
       "      <td>bloomberg mike novogratz crypto merchant bank ...</td>\n",
       "      <td>bloomberg partners novogratz galaxy digital ca...</td>\n",
       "      <td>26052.0</td>\n",
       "      <td>3.0</td>\n",
       "      <td>5.0</td>\n",
       "      <td>05-10</td>\n",
       "      <td>1.0</td>\n",
       "      <td>0.0</td>\n",
       "    </tr>\n",
       "    <tr>\n",
       "      <th>28</th>\n",
       "      <td>william suberg</td>\n",
       "      <td>250.0</td>\n",
       "      <td>cameron tyler winklevoss winklevoss ip patent ...</td>\n",
       "      <td>winklevoss twins gain fifth patent exchange tr...</td>\n",
       "      <td>21246.0</td>\n",
       "      <td>3.0</td>\n",
       "      <td>5.0</td>\n",
       "      <td>05-10</td>\n",
       "      <td>1.0</td>\n",
       "      <td>0.0</td>\n",
       "    </tr>\n",
       "  </tbody>\n",
       "</table>\n",
       "</div>"
      ],
      "text/plain": [
       "                  author  shares  \\\n",
       "24        william suberg   679.0   \n",
       "25        william suberg   422.0   \n",
       "26         marie huillet   316.0   \n",
       "27  molly jane zuckerman   506.0   \n",
       "28        william suberg   250.0   \n",
       "\n",
       "                                                 text  \\\n",
       "24  new research fundstrat global advisors places ...   \n",
       "25  bank america boa doubled decision stop custome...   \n",
       "26  new research current state global bottom adopt...   \n",
       "27  bloomberg mike novogratz crypto merchant bank ...   \n",
       "28  cameron tyler winklevoss winklevoss ip patent ...   \n",
       "\n",
       "                                                title    views  dow  month  \\\n",
       "24  mining propel bitcoin price 36k 2019 says late...  39159.0  4.0    5.0   \n",
       "25  bank america cto calls bitcoin troubling recon...  21860.0  4.0    5.0   \n",
       "26  new report crypto ownership shows majority ear...  29357.0  3.0    5.0   \n",
       "27  bloomberg partners novogratz galaxy digital ca...  26052.0  3.0    5.0   \n",
       "28  winklevoss twins gain fifth patent exchange tr...  21246.0  3.0    5.0   \n",
       "\n",
       "   monthday  quarter  change  \n",
       "24   05-11       1.0     0.0  \n",
       "25   05-11       1.0     0.0  \n",
       "26   05-10       1.0     0.0  \n",
       "27   05-10       1.0     0.0  \n",
       "28   05-10       1.0     0.0  "
      ]
     },
     "execution_count": 70,
     "metadata": {},
     "output_type": "execute_result"
    }
   ],
   "source": [
    "#TIMEZONE ISSUE: I converted from UTC to EST for the news articles, but the price data is probably in UTC anyway.\n",
    "df.head()"
   ]
  },
  {
   "cell_type": "code",
   "execution_count": 124,
   "metadata": {},
   "outputs": [],
   "source": [
    "df.to_csv('bitcoin_articles.csv')"
   ]
  },
  {
   "cell_type": "markdown",
   "metadata": {},
   "source": [
    "# Featurization"
   ]
  },
  {
   "cell_type": "code",
   "execution_count": 72,
   "metadata": {},
   "outputs": [],
   "source": [
    "from sklearn.model_selection import train_test_split\n",
    "\n",
    "X = df.drop(columns = 'change')\n",
    "X_train, X_test, y_train, y_test = train_test_split(X, df.change, train_size=0.75, test_size=0.25)"
   ]
  },
  {
   "cell_type": "code",
   "execution_count": 22,
   "metadata": {},
   "outputs": [],
   "source": [
    "# from sklearn.feature_extraction.text import CountVectorizer\n",
    "# from sklearn.feature_extraction.text import TfidfVectorizer\n",
    "\n",
    "# twogram_binary_vectorizer = TfidfVectorizer(binary=False, ngram_range = (1,5))\n",
    "\n",
    "# twogram_binary_vectorizer.fit(X_train)\n",
    "# vocabulary_list = list(zip( twogram_binary_vectorizer.vocabulary_.keys(), twogram_binary_vectorizer.vocabulary_.values()) )\n",
    "# vocabulary_list[0:10]"
   ]
  },
  {
   "cell_type": "code",
   "execution_count": 73,
   "metadata": {},
   "outputs": [],
   "source": [
    "import sys\n",
    "sys.path.append(\"..\")\n",
    "from ds_utils.features_pipeline_3 import pipeline_from_config\n",
    "from sklearn.metrics import roc_curve,roc_auc_score\n",
    "\n",
    "\n",
    "config = [\n",
    "    {\n",
    "        \"field\"        : \"author\",\n",
    "        \"transformers\" : [{\"name\":\"dummyizer\"}]\n",
    "    },\n",
    "    {\n",
    "        \"field\"        : \"shares\",\n",
    "        \"transformers\" : [{\"name\":\"standard_numeric\"}]\n",
    "    },\n",
    "    {\n",
    "        \"field\"        : \"text\",\n",
    "        \"transformers\" : [{\"name\":\"tfidf\"}]\n",
    "    },\n",
    "    {\n",
    "        \"field\"        : \"title\",\n",
    "        \"transformers\" : [{\"name\":\"tfidf\"}]\n",
    "    },\n",
    "    {\n",
    "        \"field\"        : \"views\",\n",
    "        \"transformers\" : [{\"name\":\"standard_numeric\"}]\n",
    "    },\n",
    "    {\n",
    "        \"field\"        : \"dow\",\n",
    "        \"transformers\" : [{\"name\":\"dummyizer\"}]\n",
    "    },\n",
    "    {\n",
    "        \"field\"        : \"month\",\n",
    "        \"transformers\" : [{\"name\":\"dummyizer\"}]\n",
    "    },\n",
    "    {\n",
    "        \"field\"        : \"monthday\",\n",
    "        \"transformers\" : [{\"name\":\"dummyizer\"}]\n",
    "    },\n",
    "    {\n",
    "        \"field\"        : \"quarter\",\n",
    "        \"transformers\" : [{\"name\":\"dummyizer\"}]\n",
    "    }\n",
    "]\n",
    "\n",
    "pipeline = pipeline_from_config(config)\n",
    "X_train_feats = pipeline.fit_transform(X_train)\n",
    "X_test_feats = pipeline.transform(X_test)"
   ]
  },
  {
   "cell_type": "markdown",
   "metadata": {},
   "source": [
    "# Shitty Model Selection"
   ]
  },
  {
   "cell_type": "code",
   "execution_count": 74,
   "metadata": {},
   "outputs": [
    {
     "name": "stdout",
     "output_type": "stream",
     "text": [
      "Cross Validated AUC: 0.499 +/- 0.003\n"
     ]
    }
   ],
   "source": [
    "from sklearn.naive_bayes import BernoulliNB\n",
    "from sklearn.model_selection import cross_val_score\n",
    "\n",
    "binary_nb = BernoulliNB()\n",
    "binary_nb.fit(X_train_feats, y_train)\n",
    "\n",
    "scores_auc = cross_val_score(binary_nb, X_train_feats, y_train, scoring=\"roc_auc\", cv = 10)\n",
    "print (\"Cross Validated AUC: %0.3f +/- %0.3f\" % (scores_auc.mean(), scores_auc.std()))"
   ]
  },
  {
   "cell_type": "code",
   "execution_count": 75,
   "metadata": {},
   "outputs": [
    {
     "name": "stdout",
     "output_type": "stream",
     "text": [
      "Cross Validated AUC: 0.929 +/- 0.083\n"
     ]
    }
   ],
   "source": [
    "from sklearn.linear_model import LogisticRegression\n",
    "\n",
    "lr_model = LogisticRegression(class_weight = 'balanced')\n",
    "lr_model.fit(X_train_feats, y_train)\n",
    "\n",
    "scores_auc = cross_val_score(lr_model, X_train_feats, y_train, scoring=\"roc_auc\", cv = 10)\n",
    "print (\"Cross Validated AUC: %0.3f +/- %0.3f\" % (scores_auc.mean(), scores_auc.std()))"
   ]
  },
  {
   "cell_type": "code",
   "execution_count": 76,
   "metadata": {},
   "outputs": [
    {
     "name": "stdout",
     "output_type": "stream",
     "text": [
      "Cross Validated AUC: 0.643 +/- 0.093\n"
     ]
    }
   ],
   "source": [
    "from sklearn.tree import DecisionTreeClassifier\n",
    "\n",
    "dtc_model = DecisionTreeClassifier(class_weight = 'balanced')\n",
    "dtc_model.fit(X_train_feats, y_train)\n",
    "\n",
    "scores_auc = cross_val_score(dtc_model, X_train_feats, y_train, scoring=\"roc_auc\", cv = 10)\n",
    "print (\"Cross Validated AUC: %0.3f +/- %0.3f\" % (scores_auc.mean(), scores_auc.std()))"
   ]
  },
  {
   "cell_type": "code",
   "execution_count": 77,
   "metadata": {},
   "outputs": [
    {
     "name": "stdout",
     "output_type": "stream",
     "text": [
      "Cross Validated AUC: 0.520 +/- 0.052\n"
     ]
    }
   ],
   "source": [
    "from sklearn.ensemble import RandomForestClassifier\n",
    "\n",
    "rfc_model = RandomForestClassifier(class_weight = 'balanced')\n",
    "rfc_model.fit(X_train_feats, y_train)\n",
    "\n",
    "scores_auc = cross_val_score(rfc_model, X_train_feats, y_train, scoring=\"roc_auc\", cv = 10)\n",
    "print (\"Cross Validated AUC: %0.3f +/- %0.3f\" % (scores_auc.mean(), scores_auc.std()))"
   ]
  },
  {
   "cell_type": "code",
   "execution_count": 78,
   "metadata": {},
   "outputs": [
    {
     "name": "stdout",
     "output_type": "stream",
     "text": [
      "Cross Validated AUC: 0.823 +/- 0.071\n"
     ]
    }
   ],
   "source": [
    "from sklearn.ensemble import AdaBoostClassifier\n",
    "\n",
    "adaboost_model = AdaBoostClassifier()\n",
    "adaboost_model.fit(X_train_feats, y_train)\n",
    "\n",
    "scores_auc = cross_val_score(adaboost_model, X_train_feats, y_train, scoring=\"roc_auc\", cv = 10)\n",
    "print (\"Cross Validated AUC: %0.3f +/- %0.3f\" % (scores_auc.mean(), scores_auc.std()))"
   ]
  },
  {
   "cell_type": "code",
   "execution_count": 79,
   "metadata": {},
   "outputs": [
    {
     "name": "stdout",
     "output_type": "stream",
     "text": [
      "Cross Validated AUC: 0.854 +/- 0.085\n"
     ]
    }
   ],
   "source": [
    "from sklearn.svm import SVC\n",
    "\n",
    "svc_model = SVC(class_weight = 'balanced')\n",
    "svc_model.fit(X_train_feats, y_train)\n",
    "\n",
    "scores_auc = cross_val_score(svc_model, X_train_feats, y_train, scoring=\"roc_auc\", cv = 10)\n",
    "print (\"Cross Validated AUC: %0.3f +/- %0.3f\" % (scores_auc.mean(), scores_auc.std()))"
   ]
  },
  {
   "cell_type": "code",
   "execution_count": 80,
   "metadata": {},
   "outputs": [
    {
     "name": "stdout",
     "output_type": "stream",
     "text": [
      "Cross Validated AUC: 0.854 +/- 0.085\n"
     ]
    }
   ],
   "source": [
    "from xgboost import XGBClassifier\n",
    "\n",
    "xgboost_model = XGBClassifier()\n",
    "xgboost_model.fit(X_train_feats, y_train)\n",
    "\n",
    "scores_auc = cross_val_score(svc_model, X_train_feats, y_train, scoring=\"roc_auc\", cv = 10)\n",
    "print (\"Cross Validated AUC: %0.3f +/- %0.3f\" % (scores_auc.mean(), scores_auc.std()))"
   ]
  },
  {
   "cell_type": "markdown",
   "metadata": {},
   "source": [
    "# GridSearch Selection"
   ]
  },
  {
   "cell_type": "code",
   "execution_count": 81,
   "metadata": {},
   "outputs": [
    {
     "name": "stdout",
     "output_type": "stream",
     "text": [
      "Fitting 10 folds for each of 8 candidates, totalling 80 fits\n"
     ]
    },
    {
     "name": "stderr",
     "output_type": "stream",
     "text": [
      "[Parallel(n_jobs=-1)]: Done  34 tasks      | elapsed:   10.7s\n",
      "[Parallel(n_jobs=-1)]: Done  80 out of  80 | elapsed:   25.4s finished\n"
     ]
    },
    {
     "name": "stdout",
     "output_type": "stream",
     "text": [
      "Best auc: 0.927, using: \n",
      "{'C': 10000.0, 'penalty': 'l2'}\n"
     ]
    }
   ],
   "source": [
    "from sklearn.linear_model import LogisticRegression\n",
    "from sklearn.model_selection import GridSearchCV\n",
    "\n",
    "grid = {\n",
    "    \"penalty\": ['l1','l2'],\n",
    "    \"C\": [np.power(10.0, c) for c in range(4, 8, 1)]\n",
    "}\n",
    "\n",
    "# gridsearchcv behaves just like a model, with fit and predict, with some additional\n",
    "# functionality too\n",
    "#balance classes so the tree doesn't become biased\n",
    "lr_tuned_model = GridSearchCV(LogisticRegression(class_weight = 'balanced'), grid, scoring=\"roc_auc\", cv = 10, n_jobs = -1, verbose = 1)\n",
    "lr_tuned_model.fit(X_train_feats, y_train)\n",
    "\n",
    "print (\"Best auc: %0.3f, using: \" % lr_tuned_model.best_score_)\n",
    "print (lr_tuned_model.best_params_)"
   ]
  },
  {
   "cell_type": "code",
   "execution_count": 82,
   "metadata": {},
   "outputs": [
    {
     "name": "stdout",
     "output_type": "stream",
     "text": [
      "Fitting 10 folds for each of 48 candidates, totalling 480 fits\n"
     ]
    },
    {
     "name": "stderr",
     "output_type": "stream",
     "text": [
      "[Parallel(n_jobs=-1)]: Done  34 tasks      | elapsed:  1.5min\n",
      "[Parallel(n_jobs=-1)]: Done 184 tasks      | elapsed:  8.6min\n",
      "[Parallel(n_jobs=-1)]: Done 434 tasks      | elapsed: 17.2min\n",
      "[Parallel(n_jobs=-1)]: Done 480 out of 480 | elapsed: 18.4min finished\n"
     ]
    },
    {
     "name": "stdout",
     "output_type": "stream",
     "text": [
      "Best auc: 0.929, using: \n",
      "{'C': 10, 'gamma': 0.1, 'kernel': 'rbf'}\n"
     ]
    }
   ],
   "source": [
    "grid = {\n",
    "    'C':[1,10,100,1000,10000,100000], 'gamma':[1,0.1,0.001,0.0001], 'kernel':['linear','rbf']\n",
    "}\n",
    "\n",
    "# gridsearchcv behaves just like a model, with fit and predict, with some additional\n",
    "# functionality too\n",
    "#balance classes so the tree doesn't become biased\n",
    "svc_tuned_model = GridSearchCV(SVC(class_weight = 'balanced', probability = True), grid, scoring=\"roc_auc\", cv = 10, n_jobs = -1, verbose = 1)\n",
    "svc_tuned_model.fit(X_train_feats, y_train)\n",
    "\n",
    "print (\"Best auc: %0.3f, using: \" % svc_tuned_model.best_score_)\n",
    "print (svc_tuned_model.best_params_)"
   ]
  },
  {
   "cell_type": "code",
   "execution_count": 83,
   "metadata": {},
   "outputs": [
    {
     "name": "stdout",
     "output_type": "stream",
     "text": [
      "Fitting 10 folds for each of 12 candidates, totalling 120 fits\n"
     ]
    },
    {
     "name": "stderr",
     "output_type": "stream",
     "text": [
      "[Parallel(n_jobs=-1)]: Done  34 tasks      | elapsed:  8.4min\n",
      "[Parallel(n_jobs=-1)]: Done 120 out of 120 | elapsed: 71.0min finished\n"
     ]
    },
    {
     "name": "stdout",
     "output_type": "stream",
     "text": [
      "Best auc: 0.882, using: \n",
      "{'learning_rate': 0.01, 'n_estimators': 500}\n"
     ]
    }
   ],
   "source": [
    "grid = {\n",
    "    'n_estimators' : [50,150,500],\n",
    "    'learning_rate' : [1,0.10,0.01,0.001]\n",
    "}\n",
    "\n",
    "xgboost_tuned_model = GridSearchCV(XGBClassifier(), grid, scoring=\"roc_auc\", cv = 10, n_jobs = -1, verbose = 1)\n",
    "xgboost_tuned_model.fit(X_train_feats, y_train)\n",
    "\n",
    "print (\"Best auc: %0.3f, using: \" % xgboost_tuned_model.best_score_)\n",
    "print (xgboost_tuned_model.best_params_)"
   ]
  },
  {
   "cell_type": "markdown",
   "metadata": {},
   "source": [
    "# Evaluation"
   ]
  },
  {
   "cell_type": "code",
   "execution_count": 84,
   "metadata": {},
   "outputs": [
    {
     "data": {
      "image/png": "[encoded data removed]",
      "text/plain": [
       "<matplotlib.figure.Figure at 0x122f0b1d0>"
      ]
     },
     "metadata": {},
     "output_type": "display_data"
    }
   ],
   "source": [
    "import numpy as np\n",
    "import matplotlib.pyplot as plt\n",
    "from sklearn.naive_bayes import GaussianNB\n",
    "from sklearn.svm import SVC\n",
    "from sklearn.datasets import load_digits\n",
    "from sklearn.model_selection import learning_curve\n",
    "from sklearn.model_selection import ShuffleSplit\n",
    "\n",
    "\n",
    "def plot_learning_curve(estimator, title, X, y, ylim=None, cv=None,\n",
    "                        n_jobs=1, train_sizes=np.linspace(.1, 1.0, 5)):\n",
    "    \"\"\"\n",
    "    Generate a simple plot of the test and training learning curve.\n",
    "\n",
    "    Parameters\n",
    "    ----------\n",
    "    estimator : object type that implements the \"fit\" and \"predict\" methods\n",
    "        An object of that type which is cloned for each validation.\n",
    "\n",
    "    title : string\n",
    "        Title for the chart.\n",
    "\n",
    "    X : array-like, shape (n_samples, n_features)\n",
    "        Training vector, where n_samples is the number of samples and\n",
    "        n_features is the number of features.\n",
    "\n",
    "    y : array-like, shape (n_samples) or (n_samples, n_features), optional\n",
    "        Target relative to X for classification or regression;\n",
    "        None for unsupervised learning.\n",
    "\n",
    "    ylim : tuple, shape (ymin, ymax), optional\n",
    "        Defines minimum and maximum yvalues plotted.\n",
    "\n",
    "    cv : int, cross-validation generator or an iterable, optional\n",
    "        Determines the cross-validation splitting strategy.\n",
    "        Possible inputs for cv are:\n",
    "          - None, to use the default 3-fold cross-validation,\n",
    "          - integer, to specify the number of folds.\n",
    "          - An object to be used as a cross-validation generator.\n",
    "          - An iterable yielding train/test splits.\n",
    "\n",
    "        For integer/None inputs, if ``y`` is binary or multiclass,\n",
    "        :class:`StratifiedKFold` used. If the estimator is not a classifier\n",
    "        or if ``y`` is neither binary nor multiclass, :class:`KFold` is used.\n",
    "\n",
    "        Refer :ref:`User Guide <cross_validation>` for the various\n",
    "        cross-validators that can be used here.\n",
    "\n",
    "    n_jobs : integer, optional\n",
    "        Number of jobs to run in parallel (default 1).\n",
    "    \"\"\"\n",
    "    plt.figure()\n",
    "    plt.title(title)\n",
    "    if ylim is not None:\n",
    "        plt.ylim(*ylim)\n",
    "    plt.xlabel(\"Training examples\")\n",
    "    plt.ylabel(\"Score\")\n",
    "    train_sizes, train_scores, test_scores = learning_curve(\n",
    "        estimator, X, y, cv=cv, n_jobs=n_jobs, train_sizes=train_sizes)\n",
    "    train_scores_mean = np.mean(train_scores, axis=1)\n",
    "    train_scores_std = np.std(train_scores, axis=1)\n",
    "    test_scores_mean = np.mean(test_scores, axis=1)\n",
    "    test_scores_std = np.std(test_scores, axis=1)\n",
    "    plt.grid()\n",
    "\n",
    "    plt.fill_between(train_sizes, train_scores_mean - train_scores_std,\n",
    "                     train_scores_mean + train_scores_std, alpha=0.1,\n",
    "                     color=\"r\")\n",
    "    plt.fill_between(train_sizes, test_scores_mean - test_scores_std,\n",
    "                     test_scores_mean + test_scores_std, alpha=0.1, color=\"g\")\n",
    "    plt.plot(train_sizes, train_scores_mean, 'o-', color=\"r\",\n",
    "             label=\"Training score\")\n",
    "    plt.plot(train_sizes, test_scores_mean, 'o-', color=\"g\",\n",
    "             label=\"Cross-validation score\")\n",
    "\n",
    "    plt.legend(loc=\"best\")\n",
    "    return plt\n",
    "\n",
    "title = \"Learning Curves (SVC)\"\n",
    "# Cross validation with 100 iterations to get smoother mean test and train\n",
    "# score curves, each time with 20% data randomly selected as a validation set.\n",
    "cv = ShuffleSplit(n_splits=10, test_size=0.2, random_state=0)\n",
    "\n",
    "estimator = SVC(C= 1, gamma= 1, kernel= 'rbf')\n",
    "plot_learning_curve(estimator, title, X_train_feats, y_train, ylim=(0.7, 1.01), cv=cv, n_jobs=4)\n",
    "\n",
    "plt.show()"
   ]
  },
  {
   "cell_type": "code",
   "execution_count": 100,
   "metadata": {},
   "outputs": [
    {
     "name": "stdout",
     "output_type": "stream",
     "text": [
      "LogisticRegression 0.8096825396825397\n",
      "XGBClassifier 0.8456349206349205\n",
      "SVC 0.8738095238095238\n"
     ]
    },
    {
     "data": {
      "text/plain": [
       "<matplotlib.legend.Legend at 0x11a96bc18>"
      ]
     },
     "execution_count": 100,
     "metadata": {},
     "output_type": "execute_result"
    },
    {
     "data": {
      "image/png": "[encoded data removed]",
      "text/plain": [
       "<matplotlib.figure.Figure at 0x119b54080>"
      ]
     },
     "metadata": {},
     "output_type": "display_data"
    }
   ],
   "source": [
    "selected_lr_model = LogisticRegression(C = 100000.0, penalty = 'l2')\n",
    "selected_svc_model = SVC(C= 1, gamma= 1, kernel= 'rbf', probability = True)\n",
    "selected_xgboost_model = XGBClassifier(learning_rate= 0.01, n_estimators= 500)\n",
    "\n",
    "models = [selected_lr_model,selected_xgboost_model,selected_svc_model]\n",
    "\n",
    "for model in models:\n",
    "    model.fit(X_train_feats,y_train)\n",
    "    Y_test_probability = model.predict_proba(X_test_feats)[:, 1]\n",
    "\n",
    "    # Use the metrics.roc_curve function to get the true positive rate (tpr) and false positive rate (fpr)\n",
    "    fpr, tpr, thresholds = roc_curve(y_test, Y_test_probability)\n",
    "\n",
    "    # Plot the ROC curve\n",
    "    plt.plot(fpr, tpr, label=str.split(str(model),'(')[0])\n",
    "    auc = roc_auc_score(y_test, Y_test_probability)\n",
    "    print(str.split(str(model),'(')[0], auc)\n",
    "plt.plot([0,1], [0,1], 'k--', label=\"Random\")\n",
    "plt.legend(loc=0)"
   ]
  },
  {
   "cell_type": "code",
   "execution_count": 116,
   "metadata": {},
   "outputs": [
    {
     "data": {
      "text/plain": [
       "array([[ 150, -150],\n",
       "       [   0,    0]])"
      ]
     },
     "execution_count": 116,
     "metadata": {},
     "output_type": "execute_result"
    }
   ],
   "source": [
    "cost_benefit_matrix = np.array([[1050, -1050], [0, 0]])\n",
    "cost_benefit_matrix"
   ]
  },
  {
   "cell_type": "code",
   "execution_count": 117,
   "metadata": {},
   "outputs": [
    {
     "data": {
      "image/png": "[encoded data removed]",
      "text/plain": [
       "<matplotlib.figure.Figure at 0x1a2aee1358>"
      ]
     },
     "metadata": {},
     "output_type": "display_data"
    }
   ],
   "source": [
    "# Get the false positive rate, true positive rate, and all thresholds\n",
    "fpr, tpr, thresholds = roc_curve(y_test, model.predict_proba(X_test_feats)[:,1])\n",
    "fnr = 1-tpr\n",
    "tnr = 1-fpr\n",
    "\n",
    "size_targeted_pop = float(len(y_test))\n",
    "\n",
    "# What is the baseline probability of being positive or negative in the data set?\n",
    "p_p = y_test.sum()/float(len(y_test))\n",
    "p_n = 1 - y_test.sum()/float(len(y_test))\n",
    "\n",
    "Y_test_predicted = model.predict(X_test_feats)\n",
    "Y_test_probability_1 = model.predict_proba(X_test_feats)[:, 1]\n",
    "\n",
    "# How many users are above the current threshold?\n",
    "# this looks all wrong, how do I account for false negatives? The n_targeted only includes predictions of class 1\n",
    "\n",
    "n_targeted = []\n",
    "for t in thresholds:\n",
    "    n_targeted.append(np.sum(Y_test_probability_1 >= t))\n",
    "\n",
    "# Turn these counts to percentages of users above the threshold\n",
    "n_targeted = np.array(n_targeted)/float(len(y_test))\n",
    "\n",
    "# Expected costs:  \n",
    "expected_profits = (cost_benefit_matrix[0, 0]*(tpr*p_p)) + (cost_benefit_matrix[0, 1]*(fpr*p_n))\n",
    "\n",
    "# Plot the cost curve\n",
    "plt.plot(n_targeted, size_targeted_pop*expected_profits, label=str.split(str(model),'(')[0])\n",
    "\n",
    "plt.xlabel(\"Percentage of stationId/dockId targeted\")\n",
    "plt.ylabel(\"Profits\")\n",
    "plt.title(\"Profits\")\n",
    "plt.legend()\n",
    "\n",
    "plt.show()"
   ]
  },
  {
   "cell_type": "code",
   "execution_count": 118,
   "metadata": {},
   "outputs": [
    {
     "name": "stdout",
     "output_type": "stream",
     "text": [
      "Number of targets for maximizing profit:  6 (1.38%)\n",
      "Score threshold = 0.9817\n",
      "\n",
      "Number of targets required to break even:  19 (4.37%)\n",
      "Score threshold = 0.0453\n"
     ]
    }
   ],
   "source": [
    "most_profit = max(expected_profits)\n",
    "number_targeted = np.where(expected_profits==most_profit)\n",
    "targets_for_max_profit = n_targeted[number_targeted[0][0]]*size_targeted_pop\n",
    "scoreThreshold = thresholds[number_targeted[0][0]]\n",
    "print(\"Number of targets for maximizing profit: \", \"{0:.0f}\".format(targets_for_max_profit), \"(\"+\"{0:.2f}%\".format(n_targeted[number_targeted[0][0]]*100)+\")\")\n",
    "print(\"Score threshold =\", \"{0:.4f}\".format(scoreThreshold))\n",
    "print()\n",
    "import math\n",
    "breakeven_index = 0\n",
    "breakeven_value = 100\n",
    "for index,item in enumerate(expected_profits[1:]):\n",
    "    if math.fabs(0-item) < breakeven_value:\n",
    "        breakeven_value = item\n",
    "        breakeven_index=index\n",
    "print(\"Number of targets required to break even: \", \"{0:.0f}\".format(n_targeted[breakeven_index]*size_targeted_pop),\"(\"+\"{0:.2f}%\".format(n_targeted[breakeven_index]*100)+\")\")\n",
    "print(\"Score threshold =\", \"{0:.4f}\".format(thresholds[breakeven_index]))"
   ]
  },
  {
   "cell_type": "markdown",
   "metadata": {},
   "source": [
    "# Deployment"
   ]
  },
  {
   "cell_type": "code",
   "execution_count": 89,
   "metadata": {},
   "outputs": [],
   "source": [
    "def predictCointelegraphChange(link):\n",
    "    story_page = requests.get(link)\n",
    "    story_soup = BeautifulSoup(story_page.text, 'html.parser')\n",
    "    text = ''\n",
    "    for tag in story_soup.find(class_=\"post-full-text contents js-post-full-text\").find_all('p'):\n",
    "        text = text + tag.text\n",
    "    date = story_soup.find(class_='date').attrs['datetime']\n",
    "    try:\n",
    "        string1 = story_soup.find(class_='referral_stats total-views').text\n",
    "    except:\n",
    "        string1 = '0'\n",
    "    views = int(re.search(r'\\d+', string1).group())\n",
    "    try:\n",
    "        string2 = story_soup.find(class_='referral_stats total-shares').text\n",
    "    except:\n",
    "        string2 = '0'\n",
    "    shares = int(re.search(r'\\d+', string2).group())\n",
    "    title = story_soup.find(class_='header').text\n",
    "    author = story_soup.find(class_='name').text\n",
    "    new_df = pd.DataFrame(data={'text':[text], 'date':[date], 'views':[views], 'shares':[shares], 'author':[author], 'title':[title]})\n",
    "    new_df.text = preprocessDfTextColumn(new_df.text)\n",
    "    new_df.text = preprocessDfTextColumn(new_df.text)\n",
    "    new_df.title = preprocessDfTextColumn(new_df.title)\n",
    "    new_df.author = preprocessDfTextColumn(new_df.author)\n",
    "    new_df['date'] = pd.to_datetime(new_df['date'], format = '%Y-%m-%d %H:%M:%S')\n",
    "    new_df['dow'] = new_df.date.apply(lambda x : x.weekday())\n",
    "    new_df['month'] = new_df.date.apply(lambda x : x.month)\n",
    "    new_df['monthday'] = new_df.date.apply(lambda x: str(x)[5:11])\n",
    "    new_df['quarter'] = new_df.date.apply(lambda x : 0 if x.month >= 1 and x.month <= 3 else 1 if x.month >=4 and x.month<=6 else 3 if x.month >=7 and x.month <=9 else 3)\n",
    "    deploy_X = pipeline.transform(new_df)\n",
    "    print(model.predict_proba(deploy_X)[:,1])"
   ]
  },
  {
   "cell_type": "code",
   "execution_count": 109,
   "metadata": {},
   "outputs": [
    {
     "name": "stdout",
     "output_type": "stream",
     "text": [
      "[0.01929617]\n"
     ]
    }
   ],
   "source": [
    "link='https://cointelegraph.com/news/ledgerx-debuts-first-bitcoin-savings-account-licensed-by-cftc'\n",
    "predictCointelegraphChange(link)"
   ]
  }
 ],
 "metadata": {
  "kernelspec": {
   "display_name": "Python 3",
   "language": "python",
   "name": "python3"
  },
  "language_info": {
   "codemirror_mode": {
    "name": "ipython",
    "version": 3
   },
   "file_extension": ".py",
   "mimetype": "text/x-python",
   "name": "python",
   "nbconvert_exporter": "python",
   "pygments_lexer": "ipython3",
   "version": "3.6.4"
  }
 },
 "nbformat": 4,
 "nbformat_minor": 2
}
